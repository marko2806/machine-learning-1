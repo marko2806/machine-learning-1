{
 "cells": [
  {
   "cell_type": "markdown",
   "metadata": {},
   "source": [
    "Sveučilište u Zagrebu  \n",
    "Fakultet elektrotehnike i računarstva  \n",
    "  \n",
    "## Strojno učenje 1 2021/2022\n",
    "http://www.fer.unizg.hr/predmet/struce1"
   ]
  },
  {
   "cell_type": "markdown",
   "metadata": {},
   "source": [
    "------------------------------\n",
    "\n",
    "### Probabilistički grafički modeli\n",
    "\n",
    "*Verzija: 1.0  \n",
    "Zadnji put ažurirano: 6. siječnja 2021.*\n",
    "\n",
    "(c) 2015-2021 Jan Šnajder, Domagoj Alagić  \n",
    "\n",
    "Rok za predaju: **9. siječnja 2021. u 23:59h**\n",
    "\n",
    "------------------------------"
   ]
  },
  {
   "cell_type": "markdown",
   "metadata": {},
   "source": [
    "### Upute\n",
    "\n",
    "Ova laboratorijska vježba sastoji se od dva zadatka. U nastavku slijedite upute navedene u ćelijama s tekstom. Rješavanje vježbe svodi se na **dopunjavanje ove bilježnice**: umetanja ćelije ili više njih **ispod** teksta zadatka, pisanja odgovarajućeg kôda te evaluiranja ćelija. \n",
    "\n",
    "Osigurajte da u potpunosti **razumijete** kôd koji ste napisali. Kod predaje vježbe, morate biti u stanju na zahtjev asistenta (ili demonstratora) preinačiti i ponovno evaluirati Vaš kôd. Nadalje, morate razumjeti teorijske osnove onoga što radite, u okvirima onoga što smo obradili na predavanju. Ispod nekih zadataka možete naći i pitanja koja služe kao smjernice za bolje razumijevanje gradiva (**nemojte pisati** odgovore na pitanja u bilježnicu). Stoga se nemojte ograničiti samo na to da riješite zadatak, nego slobodno eksperimentirajte. To upravo i jest svrha ovih vježbi.\n",
    "\n",
    "Vježbe trebate raditi **samostalno**. Možete se konzultirati s drugima o načelnom načinu rješavanja, ali u konačnici morate sami odraditi vježbu. U protivnome vježba nema smisla."
   ]
  },
  {
   "cell_type": "code",
   "execution_count": 1,
   "metadata": {},
   "outputs": [
    {
     "name": "stdout",
     "output_type": "stream",
     "text": [
      "Populating the interactive namespace from numpy and matplotlib\n"
     ]
    }
   ],
   "source": [
    "# Učitaj osnovne biblioteke...\n",
    "import sklearn\n",
    "from sklearn.metrics import silhouette_samples, silhouette_score\n",
    "import numpy as np\n",
    "import matplotlib.pyplot as plt\n",
    "import pgmpy as pgm\n",
    "%pylab inline"
   ]
  },
  {
   "cell_type": "markdown",
   "metadata": {},
   "source": [
    "### 1. Probabilistički grafički modeli -- Bayesove mreže"
   ]
  },
  {
   "cell_type": "markdown",
   "metadata": {},
   "source": [
    "Ovaj zadatak bavit će se Bayesovim mrežama, jednim od poznatijih probabilističkih grafičkih modela (*probabilistic graphical models*; PGM). Za lakše eksperimentiranje koristit ćemo programski paket [`pgmpy`](https://github.com/pgmpy/pgmpy). Molimo Vas da provjerite imate li ovaj paket te da ga instalirate ako ga nemate. Upute se nalaze na gornjoj poveznici. Za korisnike Anaconde, najlakše je upisati `conda install -c ankurankan pgmpy` (ili `pip install pgmpy` ako ne prolazi) unutar Anaconda Prompta (i ponovno pokrenuti Jupyter)."
   ]
  },
  {
   "cell_type": "markdown",
   "metadata": {},
   "source": [
    "Prvo ćemo pogledati udžbenički primjer s prskalicom. U ovom primjeru razmatramo Bayesovu mrežu koja modelira zavisnosti između oblačnosti (slučajna varijabla $C$), kiše ($R$), prskalice ($S$) i mokre trave ($W$). U ovom primjeru također pretpostavljamo da već imamo parametre vjerojatnosnih distribucija svih čvorova. Ova mreža prikazana je na sljedećoj slici:"
   ]
  },
  {
   "cell_type": "markdown",
   "metadata": {},
   "source": [
    "![This](http://www.fer.unizg.hr/_download/repository/bayes-net-sprinkler.jpg)"
   ]
  },
  {
   "cell_type": "markdown",
   "metadata": {},
   "source": [
    "Koristeći paket `pgmpy`, konstruirajte Bayesovu mrežu iz gornjeg primjera. Zatim, koristeći **egzaktno** zaključivanje, postavite sljedeće posteriorne upite: $P(w=1)$, $P(s=1|w=1)$, $P(r=1|w=1)$, $P(c=1|s=1, r=1)$ i $P(c=1)$. Provedite zaključivanje na papiru i uvjerite se da ste ispravno konstruirali mrežu. Pomoći će vam službena dokumentacija te primjeri korištenja (npr. [ovaj](https://github.com/pgmpy/pgmpy/blob/dev/examples/Monty%20Hall%20Problem.ipynb))."
   ]
  },
  {
   "cell_type": "code",
   "execution_count": 2,
   "metadata": {},
   "outputs": [],
   "source": [
    "from pgmpy.models import BayesianModel\n",
    "from pgmpy.factors.discrete.CPD import TabularCPD\n",
    "from pgmpy.inference import VariableElimination"
   ]
  },
  {
   "cell_type": "code",
   "execution_count": 3,
   "metadata": {},
   "outputs": [
    {
     "name": "stdout",
     "output_type": "stream",
     "text": [
      "True\n"
     ]
    },
    {
     "name": "stderr",
     "output_type": "stream",
     "text": [
      "Finding Elimination Order: : 100%|█████████████████████████████████████████████████████| 3/3 [00:00<00:00, 3006.67it/s]\n",
      "Eliminating: Rain: 100%|████████████████████████████████████████████████████████████████| 3/3 [00:00<00:00, 501.41it/s]\n"
     ]
    },
    {
     "name": "stdout",
     "output_type": "stream",
     "text": [
      "+--------------+------------------+\n",
      "| Wet grass    |   phi(Wet grass) |\n",
      "+==============+==================+\n",
      "| Wet grass(0) |           0.3529 |\n",
      "+--------------+------------------+\n",
      "| Wet grass(1) |           0.6471 |\n",
      "+--------------+------------------+\n"
     ]
    },
    {
     "name": "stderr",
     "output_type": "stream",
     "text": [
      "Finding Elimination Order: : 100%|█████████████████████████████████████████████████████| 2/2 [00:00<00:00, 2007.32it/s]\n",
      "Eliminating: Cloudy: 100%|██████████████████████████████████████████████████████████████| 2/2 [00:00<00:00, 501.32it/s]\n"
     ]
    },
    {
     "name": "stdout",
     "output_type": "stream",
     "text": [
      "+--------------+------------------+\n",
      "| Sprinkler    |   phi(Sprinkler) |\n",
      "+==============+==================+\n",
      "| Sprinkler(0) |           0.5702 |\n",
      "+--------------+------------------+\n",
      "| Sprinkler(1) |           0.4298 |\n",
      "+--------------+------------------+\n"
     ]
    },
    {
     "name": "stderr",
     "output_type": "stream",
     "text": [
      "Finding Elimination Order: : 100%|█████████████████████████████████████████████████████| 2/2 [00:00<00:00, 1002.34it/s]\n",
      "Eliminating: Cloudy: 100%|██████████████████████████████████████████████████████████████| 2/2 [00:00<00:00, 501.62it/s]\n"
     ]
    },
    {
     "name": "stdout",
     "output_type": "stream",
     "text": [
      "+---------+-------------+\n",
      "| Rain    |   phi(Rain) |\n",
      "+=========+=============+\n",
      "| Rain(0) |      0.2921 |\n",
      "+---------+-------------+\n",
      "| Rain(1) |      0.7079 |\n",
      "+---------+-------------+\n"
     ]
    },
    {
     "name": "stderr",
     "output_type": "stream",
     "text": [
      "Finding Elimination Order: : : 0it [00:00, ?it/s]\n",
      "0it [00:00, ?it/s]\n"
     ]
    },
    {
     "name": "stdout",
     "output_type": "stream",
     "text": [
      "+-----------+---------------+\n",
      "| Cloudy    |   phi(Cloudy) |\n",
      "+===========+===============+\n",
      "| Cloudy(0) |        0.5556 |\n",
      "+-----------+---------------+\n",
      "| Cloudy(1) |        0.4444 |\n",
      "+-----------+---------------+\n"
     ]
    },
    {
     "name": "stderr",
     "output_type": "stream",
     "text": [
      "Finding Elimination Order: : : 0it [00:00, ?it/s]\n",
      "0it [00:00, ?it/s]"
     ]
    },
    {
     "name": "stdout",
     "output_type": "stream",
     "text": [
      "+-----------+---------------+\n",
      "| Cloudy    |   phi(Cloudy) |\n",
      "+===========+===============+\n",
      "| Cloudy(0) |        0.5000 |\n",
      "+-----------+---------------+\n",
      "| Cloudy(1) |        0.5000 |\n",
      "+-----------+---------------+\n"
     ]
    },
    {
     "name": "stderr",
     "output_type": "stream",
     "text": [
      "\n"
     ]
    }
   ],
   "source": [
    "# Vaš kôd ovdje...\n",
    "\n",
    "model = BayesianModel([(\"Cloudy\", \"Sprinkler\"),(\"Cloudy\", \"Rain\"), (\"Sprinkler\", \"Wet grass\"), (\"Rain\", \"Wet grass\")])\n",
    "                                    #cloudy = 0 , cloudy = 1\n",
    "cpt_cloudy = TabularCPD(\"Cloudy\", 2, [[0.5], [0.5]])\n",
    "                                            #sprinkler = 0     sprinkler = 1\n",
    "                                            #cloudy\n",
    "cpt_sprinkler = TabularCPD(\"Sprinkler\", 2, [[0.5, 0.9],[0.5, 0.1]], evidence=[\"Cloudy\"], evidence_card=[2])\n",
    "                                    #rain = 0, rain = 1\n",
    "cpt_rain = TabularCPD(\"Rain\", 2, [[0.80, 0.20],[0.20, 0.80]], evidence=[\"Cloudy\"], evidence_card=[2])\n",
    "                                    # wet grass = 0, wet grass = 1\n",
    "cpt_wet_grass = TabularCPD(\"Wet grass\", 2, [[1.00, 0.10, 0.10, 0.01],[0.00, 0.90, 0.90, 0.99]], evidence=[\"Sprinkler\", \"Rain\"], evidence_card=[2,2])\n",
    "\n",
    "model.add_cpds(cpt_cloudy,cpt_sprinkler, cpt_rain, cpt_wet_grass)\n",
    "\n",
    "print(model.check_model())\n",
    "infer = VariableElimination(model)\n",
    "print(infer.query([\"Wet grass\"]))\n",
    "print(infer.query([\"Sprinkler\"], evidence={\"Wet grass\" : 1}))\n",
    "print(infer.query([\"Rain\"], evidence={\"Wet grass\": 1}))\n",
    "print(infer.query([\"Cloudy\"], evidence={\"Sprinkler\" : 1, \"Rain\" : 1}))\n",
    "print(infer.query([\"Cloudy\"]))"
   ]
  },
  {
   "cell_type": "markdown",
   "metadata": {},
   "source": [
    "**Q:** Koju zajedničku vjerojatnosnu razdiobu ova mreža modelira? Kako tu informaciju očitati iz mreže?  \n",
    "**Q:** U zadatku koristimo egzaktno zaključivanje. Kako ono radi?  \n",
    "**Q:** Koja je razlika između posteriornog upita i MAP-upita?  \n",
    "**Q:** Zašto je vjerojatnost $P(c=1)$ drugačija od $P(c=1|s=1,r=1)$ ako znamo da čvorovi $S$ i $R$ nisu roditelji čvora $C$?"
   ]
  },
  {
   "cell_type": "markdown",
   "metadata": {},
   "source": [
    "### 2. Efekt objašnjavanja"
   ]
  },
  {
   "cell_type": "markdown",
   "metadata": {},
   "source": [
    " **Efekt objašnjavanja** (engl. *explaining away*) zanimljiv je fenomen u kojem se događa da se dvije varijable \"natječu\" za objašnjavanje treće. Ovaj fenomen može se primijetiti na gornjoj mreži. U tom se slučaju varijable prskalice ($S$) i kiše ($R$) \"natječu\" za objašnjavanje mokre trave ($W$). Vaš zadatak je pokazati da se fenomen zaista događa."
   ]
  },
  {
   "cell_type": "code",
   "execution_count": 4,
   "metadata": {},
   "outputs": [
    {
     "name": "stderr",
     "output_type": "stream",
     "text": [
      "Finding Elimination Order: : 100%|█████████████████████████████████████████████████████| 2/2 [00:00<00:00, 2006.36it/s]\n",
      "Eliminating: Cloudy: 100%|██████████████████████████████████████████████████████████████| 2/2 [00:00<00:00, 401.06it/s]\n"
     ]
    },
    {
     "name": "stdout",
     "output_type": "stream",
     "text": [
      "+--------------+------------------+\n",
      "| Sprinkler    |   phi(Sprinkler) |\n",
      "+==============+==================+\n",
      "| Sprinkler(0) |           0.5702 |\n",
      "+--------------+------------------+\n",
      "| Sprinkler(1) |           0.4298 |\n",
      "+--------------+------------------+\n"
     ]
    },
    {
     "name": "stderr",
     "output_type": "stream",
     "text": [
      "Finding Elimination Order: : 100%|█████████████████████████████████████████████████████| 1/1 [00:00<00:00, 1002.70it/s]\n",
      "Eliminating: Cloudy: 100%|██████████████████████████████████████████████████████████████| 1/1 [00:00<00:00, 501.47it/s]\n"
     ]
    },
    {
     "name": "stdout",
     "output_type": "stream",
     "text": [
      "+--------------+------------------+\n",
      "| Sprinkler    |   phi(Sprinkler) |\n",
      "+==============+==================+\n",
      "| Sprinkler(0) |           0.8055 |\n",
      "+--------------+------------------+\n",
      "| Sprinkler(1) |           0.1945 |\n",
      "+--------------+------------------+\n"
     ]
    },
    {
     "name": "stderr",
     "output_type": "stream",
     "text": [
      "Finding Elimination Order: : 100%|█████████████████████████████████████████████████████| 2/2 [00:00<00:00, 1002.22it/s]\n",
      "Eliminating: Cloudy: 100%|██████████████████████████████████████████████████████████████| 2/2 [00:00<00:00, 401.27it/s]"
     ]
    },
    {
     "name": "stdout",
     "output_type": "stream",
     "text": [
      "+---------+-------------+\n",
      "| Rain    |   phi(Rain) |\n",
      "+=========+=============+\n",
      "| Rain(0) |      0.2921 |\n",
      "+---------+-------------+\n",
      "| Rain(1) |      0.7079 |\n",
      "+---------+-------------+\n"
     ]
    },
    {
     "name": "stderr",
     "output_type": "stream",
     "text": [
      "\n",
      "Finding Elimination Order: : 100%|█████████████████████████████████████████████████████| 1/1 [00:00<00:00, 1002.46it/s]\n",
      "Eliminating: Cloudy: 100%|██████████████████████████████████████████████████████████████| 1/1 [00:00<00:00, 501.17it/s]"
     ]
    },
    {
     "name": "stdout",
     "output_type": "stream",
     "text": [
      "+---------+-------------+\n",
      "| Rain    |   phi(Rain) |\n",
      "+=========+=============+\n",
      "| Rain(0) |      0.6796 |\n",
      "+---------+-------------+\n",
      "| Rain(1) |      0.3204 |\n",
      "+---------+-------------+\n"
     ]
    },
    {
     "name": "stderr",
     "output_type": "stream",
     "text": [
      "\n"
     ]
    }
   ],
   "source": [
    "# Vaš kôd ovdje...\n",
    "print(infer.query([\"Sprinkler\"],evidence={\"Wet grass\":1}))\n",
    "print(infer.query([\"Sprinkler\"],evidence={\"Wet grass\":1, \"Rain\": 1}))\n",
    "\n",
    "print(infer.query([\"Rain\"],evidence={\"Wet grass\":1}))\n",
    "print(infer.query([\"Rain\"],evidence={\"Wet grass\":1, \"Sprinkler\": 1}))"
   ]
  },
  {
   "cell_type": "markdown",
   "metadata": {},
   "source": [
    "**Q:** Kako biste svojim riječima opisali ovaj fenomen, koristeći se ovim primjerom?"
   ]
  }
 ],
 "metadata": {
  "anaconda-cloud": {},
  "kernelspec": {
   "display_name": "Python 3 (ipykernel)",
   "language": "python",
   "name": "python3"
  },
  "language_info": {
   "codemirror_mode": {
    "name": "ipython",
    "version": 3
   },
   "file_extension": ".py",
   "mimetype": "text/x-python",
   "name": "python",
   "nbconvert_exporter": "python",
   "pygments_lexer": "ipython3",
   "version": "3.8.12"
  }
 },
 "nbformat": 4,
 "nbformat_minor": 2
}
